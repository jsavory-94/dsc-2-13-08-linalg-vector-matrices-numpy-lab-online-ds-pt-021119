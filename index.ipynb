{
 "cells": [
  {
   "cell_type": "markdown",
   "metadata": {},
   "source": [
    "# Vectors and Matrices in Numpy - Lab\n",
    "\n",
    "## Introduction\n",
    "\n",
    "This lab will ask you to perform some simple matrix creation and manipulation exercises based on what we have covered so far in this section. The key takeaway here for you is to be able to understand how to using indexing with matrices and vectors while applying some basic operations.\n",
    "\n",
    "## Objectives\n",
    "You will be able to:\n",
    "* Define vectors and matrices in NumPy\n",
    "* Check the shape of vectors and matrices\n",
    "* Access and manipulate individual scalar components of a matrix. "
   ]
  },
  {
   "cell_type": "markdown",
   "metadata": {},
   "source": [
    "## 1. Define two arrays A (4x2) and B (2x3) \n",
    "```\n",
    "A = 1402, 191 \n",
    "    1371, 821 \n",
    "    949, 1437\n",
    "    147, 1448\n",
    "    \n",
    "B = 1, 2, 3\n",
    "    4, 5, 6\n",
    "    ```"
   ]
  },
  {
   "cell_type": "code",
   "execution_count": 10,
   "metadata": {},
   "outputs": [],
   "source": [
    "import numpy as np\n",
    "\n",
    "A = np.array([[1402, 191], \n",
    "    [1371, 821], \n",
    "    [949, 1437],\n",
    "    [147, 1448]])\n",
    "\n",
    "B = np.array([[1, 2, 3],\n",
    "    [4, 5, 6]])"
   ]
  },
  {
   "cell_type": "code",
   "execution_count": 12,
   "metadata": {},
   "outputs": [
    {
     "data": {
      "text/plain": [
       "array([[1, 2, 3],\n",
       "       [4, 5, 6]])"
      ]
     },
     "execution_count": 12,
     "metadata": {},
     "output_type": "execute_result"
    }
   ],
   "source": [
    "A\n",
    "B"
   ]
  },
  {
   "cell_type": "markdown",
   "metadata": {},
   "source": [
    "## 2. Print the dimensions of A and B "
   ]
  },
  {
   "cell_type": "code",
   "execution_count": 14,
   "metadata": {},
   "outputs": [
    {
     "name": "stdout",
     "output_type": "stream",
     "text": [
      "Shape of A: (4, 2)\n",
      "Shape of B: (2, 3)\n"
     ]
    }
   ],
   "source": [
    "print('Shape of A: ' + str(A.shape))\n",
    "print('Shape of B: ' + str(B.shape))"
   ]
  },
  {
   "cell_type": "markdown",
   "metadata": {},
   "source": [
    "## 3. Print some of the elements from A at following locations\n",
    "* first row and first column\n",
    "* first row and second column\n",
    "* third row and second column\n",
    "* fourth row and first column"
   ]
  },
  {
   "cell_type": "code",
   "execution_count": 19,
   "metadata": {},
   "outputs": [
    {
     "name": "stdout",
     "output_type": "stream",
     "text": [
      "1402\n",
      "191\n",
      "1437\n",
      "147\n"
     ]
    }
   ],
   "source": [
    "print(A[0][0])\n",
    "print(A[0][1])\n",
    "print(A[2][1])\n",
    "print(A[3][0])"
   ]
  },
  {
   "cell_type": "markdown",
   "metadata": {},
   "source": [
    "## 4. Write a routine to populate matrix with random data\n",
    "* Create an 3x3 numpy array with all zeros (use `np.zeros()`)\n",
    "* Access each location i,j of this matrix and fill in random values between the range 1 and 10. "
   ]
  },
  {
   "cell_type": "code",
   "execution_count": 44,
   "metadata": {},
   "outputs": [
    {
     "name": "stdout",
     "output_type": "stream",
     "text": [
      "[[10.  7.  6.]\n",
      " [ 4.  7.  8.]\n",
      " [ 5.  1.  3.]]\n",
      "[[10.  7.  6.]\n",
      " [ 4.  7.  8.]\n",
      " [ 5.  1.  3.]]\n"
     ]
    }
   ],
   "source": [
    "from random import randint\n",
    "zeros = np.zeros([3,3])\n",
    "zeros_copy = zeros\n",
    "\n",
    "for i in range(len(zeros_copy)):\n",
    "    for j in range(len(zeros_copy[i])):\n",
    "        zeros_copy[i][j] += randint(0,10)\n",
    "\n",
    "randoms = zeros_copy\n",
    "print(randoms)\n",
    "print(zeros)"
   ]
  },
  {
   "cell_type": "markdown",
   "metadata": {},
   "source": [
    "## 5. Turn above routine into a function.\n",
    "* Create two 4x4 zero valued matrices and fill with random data using the function\n",
    "* Add the matrices together in numpy \n",
    "* Show the results"
   ]
  },
  {
   "cell_type": "code",
   "execution_count": 48,
   "metadata": {},
   "outputs": [
    {
     "name": "stdout",
     "output_type": "stream",
     "text": [
      "[[ 6.  4.  2.  9.]\n",
      " [ 6.  4.  2. 10.]\n",
      " [ 4.  9.  9.  3.]\n",
      " [ 6. 10.  3. 10.]]\n",
      "[[ 8.  5.  8.  9.]\n",
      " [ 5.  1.  7.  6.]\n",
      " [ 0.  7.  5. 10.]\n",
      " [ 4.  4.  6.  7.]]\n",
      "[[14.  9. 10. 18.]\n",
      " [11.  5.  9. 16.]\n",
      " [ 4. 16. 14. 13.]\n",
      " [10. 14.  9. 17.]]\n"
     ]
    }
   ],
   "source": [
    "def get_random_array(dim1, dim2):\n",
    "    array = np.zeros([dim1,dim2])\n",
    "    \n",
    "    for i in range(len(array)):\n",
    "        for j in range(len(array[i])):\n",
    "            array[i][j] += randint(0,10)\n",
    "    \n",
    "    return array\n",
    "\n",
    "matrix1 = get_random_array(4,4)\n",
    "matrix2 = get_random_array(4,4)\n",
    "\n",
    "print(matrix1)\n",
    "print(matrix2)\n",
    "print(matrix1 + matrix2)"
   ]
  },
  {
   "cell_type": "markdown",
   "metadata": {},
   "source": [
    "## Summary \n",
    "\n",
    "In this lab, we saw how to create and manipulate vectors and matrices in numpy. We shall now move forward to learning more complex operations including dot products and inverses. "
   ]
  }
 ],
 "metadata": {
  "kernelspec": {
   "display_name": "Python 3",
   "language": "python",
   "name": "python3"
  },
  "language_info": {
   "codemirror_mode": {
    "name": "ipython",
    "version": 3
   },
   "file_extension": ".py",
   "mimetype": "text/x-python",
   "name": "python",
   "nbconvert_exporter": "python",
   "pygments_lexer": "ipython3",
   "version": "3.6.5"
  }
 },
 "nbformat": 4,
 "nbformat_minor": 2
}
